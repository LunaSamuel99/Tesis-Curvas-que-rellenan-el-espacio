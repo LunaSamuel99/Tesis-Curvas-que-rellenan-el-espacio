{
  "nbformat": 4,
  "nbformat_minor": 0,
  "metadata": {
    "colab": {
      "provenance": []
    },
    "kernelspec": {
      "name": "python3",
      "display_name": "Python 3"
    },
    "language_info": {
      "name": "python"
    }
  },
  "cells": [
    {
      "cell_type": "markdown",
      "source": [
        "# Coordenadas de la curva de Hilbert\n",
        "\n",
        "Recordemos que la función que se está recreando en el presente codigo es\n",
        "\n",
        "$$       f(0\\cdot_{4}q_1q_2q_3\\ldots) = \\sum_{j=1}^{\\infty}\\Big(\\frac{1}{2^j}\\Big)(-1)^{e_{0j}}sgn(q_j)\\begin{pmatrix}\n",
        "  (1-d_j)q_j-1\\\\\n",
        "  1-d_jq_j\n",
        "  \\end{pmatrix}, $$\n",
        "\n",
        "entonces, lo único que necesita para funcionar es que se ingrese el número $t$ en su forma cuaternaria. Ahora, $q$ representa cada $q_j$, $e0$ y $e3$ son $e_{0_j}$ y $e_{3_j}$ respectivamente, $d$ representa a $d_j$ y por último $f$ y $g$ son las dos funciones de coordenadas ϕ y Ψ respectivamente."
      ],
      "metadata": {
        "id": "QY7fUihxo9gz"
      }
    },
    {
      "cell_type": "code",
      "source": [
        "import numpy as np\n",
        "\n",
        "k,d,q,e0,e3,f,g = 0,0,0,0,0,0,0\n",
        "x = input('Ingrese el número t en su forma cuaternaria, por ejemplo: 0.0312')\n",
        "n=len(x)-2\n",
        "while n!=0:  \n",
        "  qt = x[k+2:k+3]\n",
        "  q = int(qt)\n",
        "  k+=1\n",
        "  n-=1\n",
        "  f+=((-1)**(e0))*((1-d)*q-1)*np.sign(q)*(2**n)\n",
        "  g+=((-1)**(e0))*(1-(d*q))*np.sign(q)*(2**n)\n",
        "  if q==0:\n",
        "    e0 = (e0+1)%2\n",
        "    d = (e0+e3)%2\n",
        "  else:\n",
        "    if q==3:\n",
        "      e3 = (e3+1)%2\n",
        "      d = (e0+e3)%2\n",
        "w1 = 2**k\n",
        "w2 = 2**k\n",
        "while f%2 == 0 and f>0:\n",
        "  f=f/2\n",
        "  w1=w1/2\n",
        "while g%2 == 0 and g>0:\n",
        "  g=g/2\n",
        "  w2=w2/2\n",
        "print('f({}) = {}/{}'.format(x,int(f),int(w1)))\n",
        "print('g({}) = {}/{}'.format(x,int(g),int(w2)))"
      ],
      "metadata": {
        "colab": {
          "base_uri": "https://localhost:8080/"
        },
        "id": "3u4kpIlAw6lG",
        "outputId": "8618b246-b0f6-4487-a7e2-c53d01b04a7e"
      },
      "execution_count": null,
      "outputs": [
        {
          "output_type": "stream",
          "name": "stdout",
          "text": [
            "Ingrese el número t en su forma cuaternaria, por ejemplo: 0.203 \n",
            "0.202333333333\n",
            "f(0.202333333333)=2561/4096\n",
            "g(0.202333333333)=3/4\n"
          ]
        }
      ]
    }
  ]
}