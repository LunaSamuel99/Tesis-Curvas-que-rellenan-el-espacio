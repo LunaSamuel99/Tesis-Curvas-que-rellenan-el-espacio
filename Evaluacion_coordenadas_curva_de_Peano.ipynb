{
  "nbformat": 4,
  "nbformat_minor": 0,
  "metadata": {
    "colab": {
      "provenance": []
    },
    "kernelspec": {
      "name": "python3",
      "display_name": "Python 3"
    },
    "language_info": {
      "name": "python"
    }
  },
  "cells": [
    {
      "cell_type": "markdown",
      "source": [
        "# Coordenadas para la curva de Peano\n",
        "\n",
        "En este caso se está recreando la función original de Peano\n",
        "\n",
        "$$\n",
        "  f(0\\cdot_{3}t_1t_2t_3\\ldots)=\\begin{pmatrix}\n",
        "  0\\cdot_{3}t_1(k^{t_2}t_3)(k^{t_2+t_4}t_5)\\ldots\\\\\n",
        "  0\\cdot_{3}(k^{t_1}t_2)(k^{t_1+t_3}t_4)\\ldots\n",
        "  \\end{pmatrix}$$\n",
        "\n",
        "donde $kt_j = 2-t_j$, con $j = 0,1,2$, y entonces $k^n$ será la n-ésima iteración de $k$. En este caso $b$ maneja los $t_{2j}$ y $a$ los $t_{2j+1}$, con $j=0,1,2$ y $F$ y $G$ son las funciones de coordenadas. Ahora, en este programa hay varias consideraciones: todo se maneja como una cadena de texto, en ese sentido, cuando el índice cae sobre el caracter \".\" se toma su valor como cero, en ese sentido $t_0 = 0$. Por otro lado, el mismo codigo se utiliza para calcular $f$ y $g$, solo hay un desplazamiento en la variable $k$."
      ],
      "metadata": {
        "id": "JMOE8oHt-CvM"
      }
    },
    {
      "cell_type": "code",
      "source": [
        "# Esta funcion se encarga de crear las parejas de t_j que van a ser evaluados\n",
        "def h(x,b,k):\n",
        "  x = x.replace('.','0')\n",
        "  bt = x[k+1:k+2]\n",
        "  b += int(bt)\n",
        "  at = x[k+2:k+3]\n",
        "  a = int(at)\n",
        "  # e simplemente es la variable que ayuda a saber cuantas veces se debe iterar k, un numero par de veces o impar.\n",
        "  e = b%2\n",
        "  return bt,b,at,a, e\n",
        "\n",
        "x = input('Ingrese el número t en su forma terciaria, por ejemplo: 0.2102 ')\n",
        "z = x\n",
        "k = 0\n",
        "\n",
        "# Este ciclo solo indica en que coordenada de la funcion esta el codigo, asi se sabe que coordenada imprimir.\n",
        "for i in range(1,3):\n",
        "  b = 0\n",
        "  f = '0.'\n",
        "  n = len(z)\n",
        "  # La variable m ayuda a manejar la longitud de la cadena, así se sabe si es par o no lo cual determina si es necesario apoyarce en un cero \"invisible\"\n",
        "  m = n%2\n",
        "  if m != i%2:\n",
        "    n += 1\n",
        "    x = z + '0'\n",
        "  while n > 2:\n",
        "    bt,b,at,a, e = h(x,b,k)\n",
        "    k += 2\n",
        "    n -=2\n",
        "    if e != 0:\n",
        "      a = 2-a\n",
        "    f += str(a)\n",
        "\n",
        "  if i == 1:\n",
        "    print('f({}) = {}'.format(z,f))\n",
        "    k=1\n",
        "    x = z\n",
        "  else:\n",
        "    print('g({}) = {}'.format(z,f))"
      ],
      "metadata": {
        "colab": {
          "base_uri": "https://localhost:8080/"
        },
        "id": "dtP-vSafotZU",
        "outputId": "61e50390-cc42-423d-f4d6-b942e11d4172"
      },
      "execution_count": 91,
      "outputs": [
        {
          "output_type": "stream",
          "name": "stdout",
          "text": [
            "Ingrese el número t en su forma terciaria, por ejemplo: 0.2102 0.2102\n",
            "f(0.2102) = 0.222\n",
            "g(0.2102) = 0.12\n"
          ]
        }
      ]
    }
  ]
}