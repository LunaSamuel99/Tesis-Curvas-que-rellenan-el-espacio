{
  "nbformat": 4,
  "nbformat_minor": 0,
  "metadata": {
    "colab": {
      "provenance": []
    },
    "kernelspec": {
      "name": "python3",
      "display_name": "Python 3"
    },
    "language_info": {
      "name": "python"
    }
  },
  "cells": [
    {
      "cell_type": "markdown",
      "source": [
        "# Coordenadas de la curva de Sierpinski-Knopp\n",
        "\n",
        "Recordemos que la función que se está recreando en el presente codigo es\n",
        "\n",
        "$$        f(0\\cdot_{4}q_1q_2q_3\\ldots) = \\sum_{j=1}^{\\infty}\\Big(\\frac{1}{2^j}\\Big)(-1)^{\\eta_{j}}sgn(q_j)\\begin{pmatrix}\n",
        "  (1-\\delta_j)(1+(-1)^{\\delta_j})+\\frac{1}{2}(\\delta_j-2)(1-(-1)^{\\delta_j})(1+(-1)^{q_j})\\\\\n",
        "  (2-\\delta_j)(1-(-1)^{\\delta_j})+\\frac{1}{2}(1-\\delta_j)(1+(-1)^{\\delta_j})(1+(-1)^{q_j})\n",
        "  \\end{pmatrix}, $$\n",
        "\n",
        "entonces, lo único que necesita para funcionar es que se ingrese el número $t$ en su forma cuaternaria. Ahora, $q$ representa cada $q_j$, $e0$  es $η_j$, $d$ representa a $d_j$ y por último $f$ y $g$ son las dos funciones de coordenadas ϕ y Ψ respectivamente."
      ],
      "metadata": {
        "id": "5PwIRC90xOew"
      }
    },
    {
      "cell_type": "code",
      "execution_count": 4,
      "metadata": {
        "colab": {
          "base_uri": "https://localhost:8080/"
        },
        "id": "c_zgl7wrsE0i",
        "outputId": "afb7a042-0984-4d74-fb15-0b4f926b3c5c"
      },
      "outputs": [
        {
          "output_type": "stream",
          "name": "stdout",
          "text": [
            "Ingrese el número t en su forma cuaternaria, por ejemplo: 0.03120.312\n",
            "f(0.312) = 7/4\n",
            "g(0.312) = 1/4\n"
          ]
        }
      ],
      "source": [
        "import numpy as np\n",
        "\n",
        "k,d,q,e0,f,g = 0,0,0,0,0,0\n",
        "x = input('Ingrese el número t en su forma cuaternaria, por ejemplo: 0.0312')\n",
        "n=len(x)-2\n",
        "while n!=0:  \n",
        "  qt = x[k+2:k+3]\n",
        "  q = int(qt)\n",
        "  k+=1\n",
        "  n-=1\n",
        "  f+=((-1)**(e0))*((1-d)*(1+(-1)**d)+(d-2)*(1+(-1)**q)*(1-(-1)**d)/2)*np.sign(q)*(2**(n-1))\n",
        "  g+=((-1)**(e0))*((2-d)*(1-(-1)**d)+(1-d)*(1+(-1)**q)*(1+(-1)**d)/2)*np.sign(q)*(2**(n-1))\n",
        "  if q==2:\n",
        "    e0 = (e0+1)%2\n",
        "    d = (d+1)%4\n",
        "  else:\n",
        "    if q==1:\n",
        "      continue\n",
        "w1 = 2**(k-1)\n",
        "print('f({}) = {}/{}'.format(x,int(f),int(w1)))\n",
        "print('g({}) = {}/{}'.format(x,int(g),int(w1)))"
      ]
    }
  ]
}